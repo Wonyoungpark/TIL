{
 "cells": [
  {
   "cell_type": "markdown",
   "metadata": {},
   "source": [
    "# 웹 공격과 대응"
   ]
  },
  {
   "cell_type": "markdown",
   "metadata": {},
   "source": [
    "## 📖 Book\n",
    "[화이트 해커를 위한 웹 해킹의 기술](http://www.yes24.com/Product/Goods/61781263)"
   ]
  },
  {
   "cell_type": "markdown",
   "metadata": {},
   "source": [
    "## 실습 환경"
   ]
  },
  {
   "cell_type": "markdown",
   "metadata": {},
   "source": [
    "웹 아키텍쳐\n",
    "----\n",
    "- 프레젠테이션 티어\n",
    "    - 클라이언트 영역\n",
    "- 로직 티어\n",
    "    - 서버 영역\n",
    "    - 웹 서버 & 웹 프레임워크\n",
    "    - 클라이언트로부터 전송된 HTTP 요청을 처리하고, 그 결과를 응답함.\n",
    "- 데이터 티어\n",
    "    - 서버 영역\n",
    "    - 데이터베이스 관리 시스템(DBMS) & 데이터베이스\n",
    "    - 로직 티어로부터 오는 요청(SQL문)에 따라 데이터를 처리하여 결과를 응답함.\n",
    "\n",
    "HTTP\n",
    "----\n",
    "Hyper Text Transfer Protocol<br/>\n",
    "클라이언트와 서버가 서로 통신을 하기 위한 규약<br/>\n",
    "요청 ↔️ 응답\n",
    "> <b>요청 메시지</b><br/>\n",
    "```<메소드> <요청URI> <버전>\n",
    "<헤더>\n",
    "<바디>```\n",
    "- HTTP Method\n",
    "    - GET : 지정된 리소스 요청\n",
    "    - POST : 클라이언트 데이터를 서버에 전달\n",
    "    - PUT : 지정된 리소스에 데이터 저장\n",
    "    - DELETE : 지정된 리소스 삭제\n",
    "    - HEAD : 지정된 리소스의 응답 헤더만 요청\n",
    "    - OPTIONS : 지원되는 메소드 표시\n",
    "- 헤더\n",
    "    - Host\n",
    "    - User-Agent : 클라이언트와 서버를 식별할 수 있는 헤더\n",
    "    - Accept : 클라이언트가 어떤 content type을 처리할 수 있는지 서버에게 알려주는 헤더\n",
    "    - Referer : 이전 웹 페이지의 주소, CSRF 공격 대응 방법\n",
    "    - Content-type, Content-Length\n",
    "    - Cookie : 세션ID 저장\n",
    "- 바디 : Content-Type에 따라 형태 변화\n",
    "\n",
    "\n",
    ">  <b>응답 메시지</b><br/>\n",
    "```<버전> <응답코드> <응답코드텍스트>\n",
    "<헤더>\n",
    "<바디>```\n",
    "- 헤더\n",
    "    - Server : 웹 서버와 웹 프레임워크의 버전 정보\n",
    "    - Set-Cookie : 서버에서 클라이언트로 쿠키 전달 시 사용\n",
    "    - X-Frame-Options : <frame>,<iframe> 태그를 통해 웹 페이지가 출력되는 것을 제어, Clickjacking 공격 대응 방법\n",
    "    - X-XSS-Protection : Reflicted XSS 공격 탐지 시, 웹 페이지 로딩 방지\n",
    "    - X-Content-Type-Options : 웹 브라우저는 Content-Type 헤더에 설정된 형식으로만 리소스 처리, MIME 스니핑 공격 차단 방법"
   ]
  },
  {
   "cell_type": "markdown",
   "metadata": {},
   "source": [
    "*** 다양한 공격법 ***\n",
    "- CRLF Injection : CRLF를 강제로 전송하여 의도치 않은 결과 초래\n",
    "- HTTP response splitting\n",
    "- User agent spoofing : User-Agent를 조작\n",
    "- Session Hijacking : 다른 사용자의 세션ID를 알아내 해당 사용자만 권한을 갖고 있는 정보에 접근하는 것\n",
    "- Cross Site Scripting :  다른 사용자의 세션ID를 알아내는 것을 주 목적으로 하여 사용자의 권한을 탈취하기 위해 사용\n",
    "- Clickjacking : 공격자가 정상적으로 보이는 웹 페이지의 메뉴/버튼 위에 악성링크를 보이지 않게 숨겨두는 공격\n",
    "- MIME 스니핑(content sniffing) : 웹 브라우저가 파일을 읽을 때 파일의 실제 내용과 Content-Type에 설정된 내용이 서로 다른 경우, 파일의 내용으로부터 파일 형식을 추측해 실행"
   ]
  },
  {
   "cell_type": "code",
   "execution_count": null,
   "metadata": {},
   "outputs": [],
   "source": []
  }
 ],
 "metadata": {
  "kernelspec": {
   "display_name": "Python 3",
   "language": "python",
   "name": "python3"
  },
  "language_info": {
   "codemirror_mode": {
    "name": "ipython",
    "version": 3
   },
   "file_extension": ".py",
   "mimetype": "text/x-python",
   "name": "python",
   "nbconvert_exporter": "python",
   "pygments_lexer": "ipython3",
   "version": "3.7.7"
  }
 },
 "nbformat": 4,
 "nbformat_minor": 4
}
