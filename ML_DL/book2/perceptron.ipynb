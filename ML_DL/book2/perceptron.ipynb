{
 "cells": [
  {
   "cell_type": "code",
   "execution_count": 1,
   "metadata": {},
   "outputs": [],
   "source": [
    "import numpy as np"
   ]
  },
  {
   "cell_type": "markdown",
   "metadata": {},
   "source": [
    "## 퍼셉트론 분류기 : __init__()\n",
    "\n",
    "### 매개변수\n",
    "- eta : (float) 학습률 (0.0과 1.0 사이)\n",
    "- n_iter : (int) 훈련 데이터셋 반복 횟수\n",
    "- random_state : (int) 가중치 무작위 초기화를 위한 난수 생성기 시드\n",
    "\n",
    "### 속성\n",
    "- w_ : (1d_array) 학습된 가중치\n",
    "- errors_ : (list) 에포크마다 누적된 분류 오류"
   ]
  },
  {
   "cell_type": "markdown",
   "metadata": {},
   "source": [
    "## 훈련 데이터 학습 : fit()\n",
    "\n",
    "### 매개변수\n",
    "- X : {array-like}, shape=[n_samples, n_features]\n",
    "      n_samples개의 샘플과 n_features개의 특성으로 이루어진 훈련 데이터\n",
    "- y : array-like, shape=[n_samples]\n",
    "      타겟 값\n",
    "      \n",
    "### 반환값\n",
    "- self : object"
   ]
  },
  {
   "cell_type": "code",
   "execution_count": 2,
   "metadata": {},
   "outputs": [],
   "source": [
    "class Perceptron(object):\n",
    "    def __init__(self, eta=0.01, n_iter=50, random_state=1):\n",
    "        self.eta = eta\n",
    "        self.n_iter = n_iter\n",
    "        self.random_state = random_state\n",
    "    \n",
    "    def fit(self, X, y): # 훈련 데이터 학습\n",
    "        rgen = np.random.RandmState(self.random_state)\n",
    "        self.w_ = rgen.normal(loc=0.0, scale=0.01, size=1+X.shape[1])\n",
    "        self.errors_ = []\n",
    "        \n",
    "        for _ in range(self.n_iter):\n",
    "            errors = 0\n",
    "            for xi, target in zip(X,y):\n",
    "                update = self.eta * (target-self.predict(xi))\n",
    "                self.w_[1:] += update*xi\n",
    "                self.w_[0] += update\n",
    "                errors += int(update!=0.0)\n",
    "            self.errors_.append(errors)\n",
    "            \n",
    "        return self\n",
    "    \n",
    "    def net_input(self, X): # 입력 계산\n",
    "        return np.dot(X, self.w_[1:]) + self.w_[0]\n",
    "    \n",
    "    def predict(self, X): # 단위 계단 함수를 사용해 클래스 레이블을 반환\n",
    "        return np.where(self.net_input(X)>=0.0, 1, -1)"
   ]
  }
 ],
 "metadata": {
  "kernelspec": {
   "display_name": "Python 3",
   "language": "python",
   "name": "python3"
  },
  "language_info": {
   "codemirror_mode": {
    "name": "ipython",
    "version": 3
   },
   "file_extension": ".py",
   "mimetype": "text/x-python",
   "name": "python",
   "nbconvert_exporter": "python",
   "pygments_lexer": "ipython3",
   "version": "3.7.7"
  }
 },
 "nbformat": 4,
 "nbformat_minor": 4
}
